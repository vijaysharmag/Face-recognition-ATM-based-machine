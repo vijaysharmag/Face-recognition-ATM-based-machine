{
 "cells": [
  {
   "cell_type": "code",
   "execution_count": 10,
   "metadata": {},
   "outputs": [
    {
     "name": "stdout",
     "output_type": "stream",
     "text": [
      "<class 'numpy.ndarray'>\n",
      "[[600 582  34  34]\n",
      " [308 222  55  55]\n",
      " [192 211  57  57]\n",
      " [436 237  52  52]\n",
      " [689 242  56  56]\n",
      " [341 122  51  51]\n",
      " [206 129  53  53]\n",
      " [561 274  54  54]\n",
      " [616  81  83  83]\n",
      " [469 134  53  53]\n",
      " [587 136  53  53]\n",
      " [801 137  55  55]\n",
      " [702 136  54  54]]\n",
      "(13, 4)\n",
      "Number of faces detected: 13\n"
     ]
    }
   ],
   "source": [
    "import numpy as np\n",
    "import cv2\n",
    "face_cascade = cv2.CascadeClassifier(cv2.data.haarcascades + 'haarcascade_frontalface_default.xml')\n",
    " \n",
    "image = cv2.imread(\"test1.png\")\n",
    "grayImage = cv2.cvtColor(image, cv2.COLOR_BGR2GRAY)\n",
    " \n",
    "faces = face_cascade.detectMultiScale(grayImage)\n",
    " \n",
    "print(type(faces))\n",
    " \n",
    "if len(faces) == 0:\n",
    "    print (\"No faces found\")\n",
    " \n",
    "else:\n",
    "    print (faces)\n",
    "    print (faces.shape)\n",
    "    print (\"Number of faces detected: \" + str(faces.shape[0]))\n",
    " \n",
    "    for (x,y,w,h) in faces:\n",
    "        cv2.rectangle(image,(x,y),(x+w,y+h),(0,255,0),1)\n",
    " \n",
    "    cv2.rectangle(image, ((0,image.shape[0] -25)),(270, image.shape[0]), (255,255,255), -1)\n",
    "    cv2.putText(image, \"Number of faces detected: \" + str(faces.shape[0]), (0,image.shape[0] -10), cv2.FONT_HERSHEY_TRIPLEX, 0.5,  (0,0,0), 1)\n",
    " \n",
    "    cv2.imshow('Image with faces',image)\n",
    "    cv2.waitKey(0)\n",
    "    cv2.destroyAllWindows()"
   ]
  },
  {
   "cell_type": "code",
   "execution_count": null,
   "metadata": {},
   "outputs": [],
   "source": []
  }
 ],
 "metadata": {
  "kernelspec": {
   "display_name": "Python 3",
   "language": "python",
   "name": "python3"
  },
  "language_info": {
   "codemirror_mode": {
    "name": "ipython",
    "version": 3
   },
   "file_extension": ".py",
   "mimetype": "text/x-python",
   "name": "python",
   "nbconvert_exporter": "python",
   "pygments_lexer": "ipython3",
   "version": "3.7.6"
  }
 },
 "nbformat": 4,
 "nbformat_minor": 4
}
